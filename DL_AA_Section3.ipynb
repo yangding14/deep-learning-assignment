{
 "cells": [
  {
   "cell_type": "markdown",
   "metadata": {
    "vscode": {
     "languageId": "raw"
    }
   },
   "source": [
    "# Understanding Backpropagation\n",
    "\n",
    "We will understand the basics of backpropagation through some calculation examples and visualisation. Think of backpropagation as teaching a student through feedback. When a student gets an answer wrong, we don't just say \"wrong\" – we explain what went wrong and how to improve. That's exactly what backpropagation does for neural networks.\n",
    "\n",
    "Today we'll build a tiny neural network from scratch and watch it learn through three key steps:\n",
    "1. **Forward Pass**: Making a prediction\n",
    "2. **Backward Pass**: Calculating what went wrong\n",
    "3. **Gradient Descent**: Improving for next time\n",
    "\n",
    "Let's dive in!\n"
   ]
  },
  {
   "cell_type": "code",
   "execution_count": 22,
   "metadata": {},
   "outputs": [],
   "source": [
    "import numpy as np\n",
    "import matplotlib.pyplot as plt\n",
    "\n",
    "np.random.seed(42)"
   ]
  },
  {
   "cell_type": "markdown",
   "metadata": {
    "vscode": {
     "languageId": "raw"
    }
   },
   "source": [
    "## Our Tiny Neural Network\n",
    "\n",
    "Imagine we're teaching a network to learn a simple pattern: given input `x`, we want it to output `2x`. \n",
    "\n",
    "Our network has just:\n",
    "- 1 input neuron\n",
    "- 1 output neuron  \n",
    "- 1 weight connecting them\n",
    "- 1 bias term\n",
    "\n",
    "This is as simple as it gets, but it perfectly demonstrates all the key concepts.\n"
   ]
  },
  {
   "cell_type": "code",
   "execution_count": 23,
   "metadata": {},
   "outputs": [
    {
     "name": "stdout",
     "output_type": "stream",
     "text": [
      "Initial weight: 0.497\n",
      "Initial bias: -0.138\n",
      "We want to learn: f(3.0) = 6.0\n"
     ]
    }
   ],
   "source": [
    "# Initialize our network parameters randomly\n",
    "weight = np.random.randn()  # Random weight\n",
    "bias = np.random.randn()    # Random bias\n",
    "\n",
    "# Training data: we want to learn f(x) = 2x\n",
    "x = 3.0 # Input\n",
    "target = 6.0 # Target output (2 * 3 = 6)\n",
    "\n",
    "print(f\"Initial weight: {weight:.3f}\")\n",
    "print(f\"Initial bias: {bias:.3f}\")\n",
    "print(f\"We want to learn: f({x}) = {target}\")\n"
   ]
  },
  {
   "cell_type": "markdown",
   "metadata": {
    "vscode": {
     "languageId": "raw"
    }
   },
   "source": [
    "## Step 1: Forward Pass - Making a Prediction\n",
    "\n",
    "The forward pass is like asking our network: \"What do you think the answer is?\"\n",
    "\n",
    "Our network computes: `output = weight × input + bias`\n",
    "\n",
    "This is the network's current best guess based on what it has learned so far.\n"
   ]
  },
  {
   "cell_type": "code",
   "execution_count": 24,
   "metadata": {},
   "outputs": [
    {
     "name": "stdout",
     "output_type": "stream",
     "text": [
      "Network's prediction: 1.352\n",
      "Target: 6.0\n",
      "Loss (error squared): 21.605\n",
      "We're off by: 4.648\n"
     ]
    }
   ],
   "source": [
    "# Forward pass: compute the prediction\n",
    "output = weight * x + bias\n",
    "\n",
    "# Calculate the loss (how wrong we are)\n",
    "loss = (output - target) ** 2\n",
    "\n",
    "print(f\"Network's prediction: {output:.3f}\")\n",
    "print(f\"Target: {target}\")\n",
    "print(f\"Loss (error squared): {loss:.3f}\")\n",
    "print(f\"We're off by: {abs(output - target):.3f}\")\n"
   ]
  },
  {
   "cell_type": "markdown",
   "metadata": {
    "vscode": {
     "languageId": "raw"
    }
   },
   "source": [
    "## Step 2: Backward Pass - Understanding the Mistake\n",
    "\n",
    "Now comes the magic! The backward pass asks: \"How should we adjust each parameter to reduce the error?\"\n",
    "\n",
    "We use calculus (chain rule) to find gradients:\n",
    "- `∂loss/∂weight = 2 × (output - target) × input`\n",
    "- `∂loss/∂bias = 2 × (output - target)`\n",
    "\n",
    "These gradients tell us the direction and magnitude to adjust each parameter.\n"
   ]
  },
  {
   "cell_type": "code",
   "execution_count": 25,
   "metadata": {},
   "outputs": [
    {
     "name": "stdout",
     "output_type": "stream",
     "text": [
      "Error: -4.648\n",
      "Gradient for weight: -27.889\n",
      "Gradient for bias: -9.296\n",
      "Positive gradient means we should decrease the parameter\n"
     ]
    }
   ],
   "source": [
    "# Backward pass: compute gradients\n",
    "error = output - target\n",
    "grad_weight = 2 * error * x  # How much to change weight\n",
    "grad_bias = 2 * error        # How much to change bias\n",
    "\n",
    "print(f\"Error: {error:.3f}\")\n",
    "print(f\"Gradient for weight: {grad_weight:.3f}\")\n",
    "print(f\"Gradient for bias: {grad_bias:.3f}\")\n",
    "print(\"Positive gradient means we should decrease the parameter\")\n"
   ]
  },
  {
   "cell_type": "markdown",
   "metadata": {
    "vscode": {
     "languageId": "raw"
    }
   },
   "source": [
    "## Step 3: Gradient Descent - Learning from Mistakes\n",
    "\n",
    "Gradient descent is like taking a step in the direction that reduces our error. The learning rate controls how big steps we take - too big and we might overshoot, too small and we learn very slowly.\n"
   ]
  },
  {
   "cell_type": "code",
   "execution_count": 26,
   "metadata": {},
   "outputs": [
    {
     "name": "stdout",
     "output_type": "stream",
     "text": [
      "Updated weight: 0.776\n",
      "Updated bias: -0.045\n",
      "\n",
      "After one learning step:\n",
      "New prediction: 2.282\n",
      "New loss: 13.827\n",
      "Loss reduced by: 7.778\n"
     ]
    }
   ],
   "source": [
    "# Gradient descent: update parameters\n",
    "learning_rate = 0.01\n",
    "\n",
    "weight = weight - learning_rate * grad_weight\n",
    "bias = bias - learning_rate * grad_bias\n",
    "\n",
    "print(f\"Updated weight: {weight:.3f}\")\n",
    "print(f\"Updated bias: {bias:.3f}\")\n",
    "\n",
    "# Test our improved network\n",
    "new_output = weight * x + bias\n",
    "new_loss = (new_output - target) ** 2\n",
    "\n",
    "print(f\"\\nAfter one learning step:\")\n",
    "print(f\"New prediction: {new_output:.3f}\")\n",
    "print(f\"New loss: {new_loss:.3f}\")\n",
    "print(f\"Loss reduced by: {loss - new_loss:.3f}\")\n"
   ]
  },
  {
   "cell_type": "markdown",
   "metadata": {
    "vscode": {
     "languageId": "raw"
    }
   },
   "source": [
    "## Watching Our Network Learn\n",
    "\n",
    "Let's run many iterations and watch the magic happen!\n"
   ]
  },
  {
   "cell_type": "code",
   "execution_count": 27,
   "metadata": {},
   "outputs": [
    {
     "data": {
      "image/png": "[encoded data removed]",
      "text/plain": [
       "<Figure size 800x500 with 1 Axes>"
      ]
     },
     "metadata": {},
     "output_type": "display_data"
    },
    {
     "name": "stdout",
     "output_type": "stream",
     "text": [
      "Final weight: 1.408 (should be close to 2.0)\n",
      "Final bias: 1.776 (should be close to 0.0)\n",
      "Final prediction: 6.000 (target: 6.0)\n"
     ]
    }
   ],
   "source": [
    "# Reset and train for multiple iterations\n",
    "weight = np.random.randn()\n",
    "bias = np.random.randn()\n",
    "losses = []\n",
    "\n",
    "for i in range(100):\n",
    "    # Forward pass\n",
    "    output = weight * x + bias\n",
    "    loss = (output - target) ** 2\n",
    "    losses.append(loss)\n",
    "    \n",
    "    # Backward pass\n",
    "    error = output - target\n",
    "    grad_weight = 2 * error * x\n",
    "    grad_bias = 2 * error\n",
    "    \n",
    "    # Gradient descent\n",
    "    weight -= learning_rate * grad_weight\n",
    "    bias -= learning_rate * grad_bias\n",
    "\n",
    "# Plot the learning curve\n",
    "plt.figure(figsize=(8, 5))\n",
    "plt.plot(losses)\n",
    "plt.title('Network Learning: Loss Over Time')\n",
    "plt.xlabel('Training Iteration')\n",
    "plt.ylabel('Loss (Error²)')\n",
    "plt.grid(True, alpha=0.3)\n",
    "plt.show()\n",
    "\n",
    "print(f\"Final weight: {weight:.3f} (should be close to 2.0)\")\n",
    "print(f\"Final bias: {bias:.3f} (should be close to 0.0)\")\n",
    "print(f\"Final prediction: {weight * x + bias:.3f} (target: {target})\")\n"
   ]
  },
  {
   "cell_type": "markdown",
   "metadata": {
    "vscode": {
     "languageId": "raw"
    }
   },
   "source": [
    "## Wrapping Up The Backpropagation\n",
    "\n",
    "What we had done is the fundamental learning mechanism behind all deep learning models\n",
    "\n",
    "**Key Takeaways:**\n",
    "1. **Forward Pass**: The network makes predictions based on current parameters\n",
    "2. **Loss Calculation**: We measure how wrong the prediction is\n",
    "3. **Backward Pass**: We calculate gradients that tell us how to improve\n",
    "4. **Gradient Descent**: We adjust parameters in the direction that reduces error\n",
    "\n",
    "Even the most complex neural networks with millions of parameters follow this exact same process. The math gets more complex, but the core idea remains the same: forward pass, backward pass, optimize, repeat.\n",
    "\n",
    "This simple example shows how a network can learn to approximate any function, given enough data and the right architecture.\n"
   ]
  }
 ],
 "metadata": {
  "kernelspec": {
   "display_name": "venv",
   "language": "python",
   "name": "python3"
  },
  "language_info": {
   "codemirror_mode": {
    "name": "ipython",
    "version": 3
   },
   "file_extension": ".py",
   "mimetype": "text/x-python",
   "name": "python",
   "nbconvert_exporter": "python",
   "pygments_lexer": "ipython3",
   "version": "3.12.11"
  }
 },
 "nbformat": 4,
 "nbformat_minor": 2
}
